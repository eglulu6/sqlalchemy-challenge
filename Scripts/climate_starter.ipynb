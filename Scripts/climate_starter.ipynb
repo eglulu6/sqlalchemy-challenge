{
 "cells": [
  {
   "cell_type": "code",
   "execution_count": 1,
   "metadata": {},
   "outputs": [],
   "source": [
    "%matplotlib inline\n",
    "from matplotlib import style\n",
    "style.use('fivethirtyeight')\n",
    "import matplotlib.pyplot as plt\n",
    "import numpy as np\n",
    "import pandas as pd\n",
    "import datetime as dt\n",
    "\n",
    "# Python SQL toolkit and Object Relational Mapper\n",
    "import sqlalchemy\n",
    "from sqlalchemy.ext.automap import automap_base\n",
    "from sqlalchemy.orm import Session\n",
    "from sqlalchemy import create_engine, func, inspect, desc"
   ]
  },
  {
   "cell_type": "markdown",
   "metadata": {},
   "source": [
    "# Reflect Tables into SQLAlchemy ORM"
   ]
  },
  {
   "cell_type": "code",
   "execution_count": 2,
   "metadata": {},
   "outputs": [],
   "source": [
    "# create engine to hawaii.sqlite\n",
    "engine = create_engine(\"sqlite:///../Resources/hawaii.sqlite\")"
   ]
  },
  {
   "cell_type": "code",
   "execution_count": 3,
   "metadata": {},
   "outputs": [
    {
     "data": {
      "text/plain": [
       "['measurement', 'station']"
      ]
     },
     "execution_count": 3,
     "metadata": {},
     "output_type": "execute_result"
    }
   ],
   "source": [
    "# reflect an existing database into a new model\n",
    "Database = automap_base( )\n",
    "\n",
    "# reflect the tables\n",
    "Database.prepare(engine, reflect=True)\n",
    "\n",
    "# View all of the classes that automap found\n",
    "Database.classes.keys( )"
   ]
  },
  {
   "cell_type": "code",
   "execution_count": 63,
   "metadata": {},
   "outputs": [
    {
     "data": {
      "text/plain": [
       "[{'name': 'id',\n",
       "  'type': INTEGER(),\n",
       "  'nullable': False,\n",
       "  'default': None,\n",
       "  'autoincrement': 'auto',\n",
       "  'primary_key': 1},\n",
       " {'name': 'station',\n",
       "  'type': TEXT(),\n",
       "  'nullable': True,\n",
       "  'default': None,\n",
       "  'autoincrement': 'auto',\n",
       "  'primary_key': 0},\n",
       " {'name': 'name',\n",
       "  'type': TEXT(),\n",
       "  'nullable': True,\n",
       "  'default': None,\n",
       "  'autoincrement': 'auto',\n",
       "  'primary_key': 0},\n",
       " {'name': 'latitude',\n",
       "  'type': FLOAT(),\n",
       "  'nullable': True,\n",
       "  'default': None,\n",
       "  'autoincrement': 'auto',\n",
       "  'primary_key': 0},\n",
       " {'name': 'longitude',\n",
       "  'type': FLOAT(),\n",
       "  'nullable': True,\n",
       "  'default': None,\n",
       "  'autoincrement': 'auto',\n",
       "  'primary_key': 0},\n",
       " {'name': 'elevation',\n",
       "  'type': FLOAT(),\n",
       "  'nullable': True,\n",
       "  'default': None,\n",
       "  'autoincrement': 'auto',\n",
       "  'primary_key': 0}]"
      ]
     },
     "execution_count": 63,
     "metadata": {},
     "output_type": "execute_result"
    }
   ],
   "source": [
    "# Save references to each table \n",
    "Measuerement = Database.classes.measurement\n",
    "Station = Database.classes.station\n",
    "\n",
    "# Create our session (link) from Python to the DB\n",
    "session = Session(bind=engine)\n",
    "inspector = inspect(engine)\n",
    "\n",
    "inspector.get_columns('station')"
   ]
  },
  {
   "cell_type": "markdown",
   "metadata": {},
   "source": [
    "# Exploratory Precipitation Analysis\n",
    "#### Design a query to retrieve the last 12 months of precipitation data and plot the results. \n",
    "Starting from the most recent data point in the database"
   ]
  },
  {
   "cell_type": "code",
   "execution_count": 5,
   "metadata": {},
   "outputs": [],
   "source": [
    "# STEP 1: Find the most recent date in the data set.\n",
    "earliest_date = session.query(Measuerement.date).order_by(Measuerement.date.desc()).first()\n",
    "\n",
    "# STEP 2: Calculate the date one year from the last date in data set.\n",
    "end_date = dt.datetime.strptime(earliest_date[0],'%Y-%m-%d') - dt.timedelta(days=365)\n",
    "\n",
    "# STEP 3: Perform a query to retrieve the data and precipitation scores\n",
    "prcp_12_mo_data = session.query(Measuerement.date, Measuerement.prcp).filter(Measuerement.date > end_date).all()\n",
    "\n",
    "# STEP 4: Save the query results as a Pandas DataFrame and set the index to the date column\n",
    "prcp_df = pd.DataFrame(prcp_12_mo_data, columns=['date', 'prcp'])\n",
    "\n",
    "# STEP 5: Sort the dataframe by date\n",
    "prcp_df.sort_values('date',ascending=False)\n",
    "\n",
    "# break the date into yr_mo for easier plotting\n",
    "yr_mo = []\n",
    "for date in prcp_df['date']:\n",
    "    yr_mo.append(date[0:7])\n",
    "prcp_df['yr_mo'] = yr_mo"
   ]
  },
  {
   "cell_type": "code",
   "execution_count": 32,
   "metadata": {},
   "outputs": [
    {
     "data": {
      "text/plain": [
       "Text(0.5, 1.0, '12 Month Precipitation')"
      ]
     },
     "execution_count": 32,
     "metadata": {},
     "output_type": "execute_result"
    },
    {
     "data": {
      "image/png": "[encoded data removed]",
      "text/plain": [
       "<Figure size 1440x720 with 1 Axes>"
      ]
     },
     "metadata": {},
     "output_type": "display_data"
    }
   ],
   "source": [
    "# STEP 5: Use Pandas Plotting with Matplotlib to plot the data\n",
    "plt.figure(figsize=(20,10))\n",
    "plt.bar(prcp_df['yr_mo'], prcp_df['prcp'])\n",
    "plt.xlabel('Month of Precipitation')\n",
    "plt.ylabel('Precipitation in Inches')\n",
    "plt.title('12 Month Precipitation')"
   ]
  },
  {
   "cell_type": "code",
   "execution_count": 49,
   "metadata": {},
   "outputs": [
    {
     "data": {
      "text/html": [
       "<div>\n",
       "<style scoped>\n",
       "    .dataframe tbody tr th:only-of-type {\n",
       "        vertical-align: middle;\n",
       "    }\n",
       "\n",
       "    .dataframe tbody tr th {\n",
       "        vertical-align: top;\n",
       "    }\n",
       "\n",
       "    .dataframe thead th {\n",
       "        text-align: right;\n",
       "    }\n",
       "</style>\n",
       "<table border=\"1\" class=\"dataframe\">\n",
       "  <thead>\n",
       "    <tr style=\"text-align: right;\">\n",
       "      <th></th>\n",
       "      <th>prcp</th>\n",
       "    </tr>\n",
       "  </thead>\n",
       "  <tbody>\n",
       "    <tr>\n",
       "      <th>count</th>\n",
       "      <td>2015.000000</td>\n",
       "    </tr>\n",
       "    <tr>\n",
       "      <th>mean</th>\n",
       "      <td>0.176462</td>\n",
       "    </tr>\n",
       "    <tr>\n",
       "      <th>std</th>\n",
       "      <td>0.460288</td>\n",
       "    </tr>\n",
       "    <tr>\n",
       "      <th>min</th>\n",
       "      <td>0.000000</td>\n",
       "    </tr>\n",
       "    <tr>\n",
       "      <th>25%</th>\n",
       "      <td>0.000000</td>\n",
       "    </tr>\n",
       "    <tr>\n",
       "      <th>50%</th>\n",
       "      <td>0.020000</td>\n",
       "    </tr>\n",
       "    <tr>\n",
       "      <th>75%</th>\n",
       "      <td>0.130000</td>\n",
       "    </tr>\n",
       "    <tr>\n",
       "      <th>max</th>\n",
       "      <td>6.700000</td>\n",
       "    </tr>\n",
       "  </tbody>\n",
       "</table>\n",
       "</div>"
      ],
      "text/plain": [
       "              prcp\n",
       "count  2015.000000\n",
       "mean      0.176462\n",
       "std       0.460288\n",
       "min       0.000000\n",
       "25%       0.000000\n",
       "50%       0.020000\n",
       "75%       0.130000\n",
       "max       6.700000"
      ]
     },
     "execution_count": 49,
     "metadata": {},
     "output_type": "execute_result"
    }
   ],
   "source": [
    "# Use Pandas to calcualte the summary statistics for the precipitation data\n",
    "prcp_df.describe()"
   ]
  },
  {
   "cell_type": "markdown",
   "metadata": {},
   "source": [
    "# Exploratory Station Analysis"
   ]
  },
  {
   "cell_type": "code",
   "execution_count": 8,
   "metadata": {},
   "outputs": [
    {
     "data": {
      "text/plain": [
       "9"
      ]
     },
     "execution_count": 8,
     "metadata": {},
     "output_type": "execute_result"
    }
   ],
   "source": [
    "# Design a query to calculate the total number stations in the dataset\n",
    "active_stations = session.query(Measuerement).group_by(Measuerement.station).count()\n",
    "active_stations"
   ]
  },
  {
   "cell_type": "code",
   "execution_count": 9,
   "metadata": {},
   "outputs": [],
   "source": [
    "# Design a query to find the most active stations (i.e. what stations have the most rows?)\n",
    "# List the stations and the counts in descending order.\n",
    "active_stations_count = engine.execute('SELECT station, COUNT(*) FROM measurement GROUP BY station ORDER BY count(*) DESC').fetchall()\n",
    "\n",
    "# Using the most active station id from the previous query, calculate the lowest, highest, and average temperature.\n",
    "most_active_station = active_stations_count[0][0]\n",
    "\n",
    "most_active_station_sumry = engine.execute(f'\\\n",
    "SELECT measurement.station, min(measurement.tobs), max(measurement.tobs), avg(measurement.tobs)\\\n",
    "FROM measurement \\\n",
    "WHERE measurement.station = \"{most_active_station}\" ').fetchall()\n",
    "\n",
    "# store values for print statement\n",
    "most_asctive_station_id = most_active_station_sumry[0][0]\n",
    "most_asctive_station_min_tobs = most_active_station_sumry[0][1]\n",
    "most_asctive_station_max_tobs = most_active_station_sumry[0][2]\n",
    "most_asctive_station_avg_tobs = most_active_station_sumry[0][3]\n",
    "\n",
    "#print most active station summary info\n",
    "print(f'\\\n",
    "Station: {most_asctive_station_id}\\n\\\n",
    "Min Temp: {most_asctive_station_min_tobs}\\n\\\n",
    "Max Temp: {most_asctive_station_max_tobs}\\n\\\n",
    "Avg Temp:{round(most_asctive_station_avg_tobs,1)}\\n\\\n",
    "')"
   ]
  },
  {
   "cell_type": "markdown",
   "metadata": {},
   "source": [
    "#### Query the last 12 months of temperature observation data for this station and plot the results as a histogram"
   ]
  },
  {
   "cell_type": "code",
   "execution_count": 33,
   "metadata": {},
   "outputs": [
    {
     "data": {
      "text/plain": [
       "Text(0.5, 1.0, 'Most Active Station Temperature')"
      ]
     },
     "execution_count": 33,
     "metadata": {},
     "output_type": "execute_result"
    },
    {
     "data": {
      "image/png": "[encoded data removed]",
      "text/plain": [
       "<Figure size 432x288 with 1 Axes>"
      ]
     },
     "metadata": {},
     "output_type": "display_data"
    }
   ],
   "source": [
    "# STEP 1: Find the most recent date in the data set \n",
    "    # USE VARIABLE FROM ABOVE == earliest_date\n",
    "    \n",
    "# STEP 2: Calculate the date one year from the last date in data set \n",
    "    # USE VARIABLE FROM ABOVE == end_date\n",
    "\n",
    "# STEP 3: Perform a query to retrieve the data and precipitation scores\n",
    "tobs_12_mo_data = session.query(Measuerement.date, Measuerement.tobs)\\\n",
    ".filter(Measuerement.date > end_date)\\\n",
    ".filter(Measuerement.station == most_asctive_station_id)\n",
    "\n",
    "# STEP 4: Save the query results as a Pandas DataFrame and set the index to the date column\n",
    "tobs_df = pd.DataFrame(tobs_12_mo_data, columns=['date', 'tobs'])\n",
    "\n",
    "# STEP 5: Sort the dataframe by date\n",
    "tobs_df.sort_values('date',ascending=False)\n",
    "\n",
    "# STEP 6: Plot the data in a histogram\n",
    "tobs_df.plot.hist(bins=12)\n",
    "plt.xlabel('Temperature (Celsius)')\n",
    "plt.ylabel('Frequency')\n",
    "plt.title('Most Active Station Temperature')"
   ]
  },
  {
   "cell_type": "markdown",
   "metadata": {
    "jupyter": {
     "outputs_hidden": true
    }
   },
   "source": [
    "---"
   ]
  },
  {
   "cell_type": "markdown",
   "metadata": {},
   "source": [
    "# Close session"
   ]
  },
  {
   "cell_type": "code",
   "execution_count": 31,
   "metadata": {},
   "outputs": [],
   "source": [
    "# Close Session\n",
    "session.close()"
   ]
  }
 ],
 "metadata": {
  "anaconda-cloud": {},
  "kernel_info": {
   "name": "python3"
  },
  "kernelspec": {
   "display_name": "Python 3",
   "language": "python",
   "name": "python3"
  },
  "language_info": {
   "codemirror_mode": {
    "name": "ipython",
    "version": 3
   },
   "file_extension": ".py",
   "mimetype": "text/x-python",
   "name": "python",
   "nbconvert_exporter": "python",
   "pygments_lexer": "ipython3",
   "version": "3.8.5"
  },
  "nteract": {
   "version": "0.12.3"
  },
  "varInspector": {
   "cols": {
    "lenName": 16,
    "lenType": 16,
    "lenVar": 40
   },
   "kernels_config": {
    "python": {
     "delete_cmd_postfix": "",
     "delete_cmd_prefix": "del ",
     "library": "var_list.py",
     "varRefreshCmd": "print(var_dic_list())"
    },
    "r": {
     "delete_cmd_postfix": ") ",
     "delete_cmd_prefix": "rm(",
     "library": "var_list.r",
     "varRefreshCmd": "cat(var_dic_list()) "
    }
   },
   "types_to_exclude": [
    "module",
    "function",
    "builtin_function_or_method",
    "instance",
    "_Feature"
   ],
   "window_display": false
  }
 },
 "nbformat": 4,
 "nbformat_minor": 4
}
